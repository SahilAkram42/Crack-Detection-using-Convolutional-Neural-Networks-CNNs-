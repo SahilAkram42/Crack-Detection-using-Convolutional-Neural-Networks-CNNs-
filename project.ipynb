{
  "nbformat": 4,
  "nbformat_minor": 0,
  "metadata": {
    "colab": {
      "provenance": [],
      "gpuType": "T4"
    },
    "kernelspec": {
      "name": "python3",
      "display_name": "Python 3"
    },
    "language_info": {
      "name": "python"
    },
    "accelerator": "GPU"
  },
  "cells": [
    {
      "cell_type": "markdown",
      "metadata": {
        "id": "ba8cbf8d"
      },
      "source": [
        "# **Image Processing for detecting Cracks in Mine Pillars**\n"
      ]
    },
    {
      "cell_type": "markdown",
      "metadata": {
        "id": "5a8a297d"
      },
      "source": [
        "### Group Members :\n",
        "\n"
      ]
    },
    {
      "cell_type": "markdown",
      "metadata": {
        "id": "e94f5ee2"
      },
      "source": [
        "---------"
      ]
    },
    {
      "cell_type": "markdown",
      "metadata": {
        "id": "3b9500e2"
      },
      "source": [
        "### Import Used Libraries"
      ]
    },
    {
      "cell_type": "code",
      "source": [],
      "metadata": {
        "id": "TyTkNv2kKVtR"
      },
      "execution_count": null,
      "outputs": []
    },
    {
      "cell_type": "code",
      "source": [
        "! pip install -q kaggle"
      ],
      "metadata": {
        "id": "G9XISxTaHNSS"
      },
      "execution_count": null,
      "outputs": []
    },
    {
      "cell_type": "code",
      "source": [
        "from google.colab import drive\n",
        "drive.mount('/content/drive')"
      ],
      "metadata": {
        "id": "-t_G2iv_cb_D",
        "colab": {
          "base_uri": "https://localhost:8080/",
          "height": 304
        },
        "outputId": "6263b8b5-035b-4830-b50c-9d13ae904eb9"
      },
      "execution_count": null,
      "outputs": [
        {
          "output_type": "error",
          "ename": "MessageError",
          "evalue": "Error: credential propagation was unsuccessful",
          "traceback": [
            "\u001b[0;31m---------------------------------------------------------------------------\u001b[0m",
            "\u001b[0;31mMessageError\u001b[0m                              Traceback (most recent call last)",
            "\u001b[0;32m<ipython-input-2-d5df0069828e>\u001b[0m in \u001b[0;36m<cell line: 2>\u001b[0;34m()\u001b[0m\n\u001b[1;32m      1\u001b[0m \u001b[0;32mfrom\u001b[0m \u001b[0mgoogle\u001b[0m\u001b[0;34m.\u001b[0m\u001b[0mcolab\u001b[0m \u001b[0;32mimport\u001b[0m \u001b[0mdrive\u001b[0m\u001b[0;34m\u001b[0m\u001b[0;34m\u001b[0m\u001b[0m\n\u001b[0;32m----> 2\u001b[0;31m \u001b[0mdrive\u001b[0m\u001b[0;34m.\u001b[0m\u001b[0mmount\u001b[0m\u001b[0;34m(\u001b[0m\u001b[0;34m'/content/drive'\u001b[0m\u001b[0;34m)\u001b[0m\u001b[0;34m\u001b[0m\u001b[0;34m\u001b[0m\u001b[0m\n\u001b[0m",
            "\u001b[0;32m/usr/local/lib/python3.10/dist-packages/google/colab/drive.py\u001b[0m in \u001b[0;36mmount\u001b[0;34m(mountpoint, force_remount, timeout_ms, readonly)\u001b[0m\n\u001b[1;32m     98\u001b[0m \u001b[0;32mdef\u001b[0m \u001b[0mmount\u001b[0m\u001b[0;34m(\u001b[0m\u001b[0mmountpoint\u001b[0m\u001b[0;34m,\u001b[0m \u001b[0mforce_remount\u001b[0m\u001b[0;34m=\u001b[0m\u001b[0;32mFalse\u001b[0m\u001b[0;34m,\u001b[0m \u001b[0mtimeout_ms\u001b[0m\u001b[0;34m=\u001b[0m\u001b[0;36m120000\u001b[0m\u001b[0;34m,\u001b[0m \u001b[0mreadonly\u001b[0m\u001b[0;34m=\u001b[0m\u001b[0;32mFalse\u001b[0m\u001b[0;34m)\u001b[0m\u001b[0;34m:\u001b[0m\u001b[0;34m\u001b[0m\u001b[0;34m\u001b[0m\u001b[0m\n\u001b[1;32m     99\u001b[0m   \u001b[0;34m\"\"\"Mount your Google Drive at the specified mountpoint path.\"\"\"\u001b[0m\u001b[0;34m\u001b[0m\u001b[0;34m\u001b[0m\u001b[0m\n\u001b[0;32m--> 100\u001b[0;31m   return _mount(\n\u001b[0m\u001b[1;32m    101\u001b[0m       \u001b[0mmountpoint\u001b[0m\u001b[0;34m,\u001b[0m\u001b[0;34m\u001b[0m\u001b[0;34m\u001b[0m\u001b[0m\n\u001b[1;32m    102\u001b[0m       \u001b[0mforce_remount\u001b[0m\u001b[0;34m=\u001b[0m\u001b[0mforce_remount\u001b[0m\u001b[0;34m,\u001b[0m\u001b[0;34m\u001b[0m\u001b[0;34m\u001b[0m\u001b[0m\n",
            "\u001b[0;32m/usr/local/lib/python3.10/dist-packages/google/colab/drive.py\u001b[0m in \u001b[0;36m_mount\u001b[0;34m(mountpoint, force_remount, timeout_ms, ephemeral, readonly)\u001b[0m\n\u001b[1;32m    131\u001b[0m   )\n\u001b[1;32m    132\u001b[0m   \u001b[0;32mif\u001b[0m \u001b[0mephemeral\u001b[0m\u001b[0;34m:\u001b[0m\u001b[0;34m\u001b[0m\u001b[0;34m\u001b[0m\u001b[0m\n\u001b[0;32m--> 133\u001b[0;31m     _message.blocking_request(\n\u001b[0m\u001b[1;32m    134\u001b[0m         \u001b[0;34m'request_auth'\u001b[0m\u001b[0;34m,\u001b[0m \u001b[0mrequest\u001b[0m\u001b[0;34m=\u001b[0m\u001b[0;34m{\u001b[0m\u001b[0;34m'authType'\u001b[0m\u001b[0;34m:\u001b[0m \u001b[0;34m'dfs_ephemeral'\u001b[0m\u001b[0;34m}\u001b[0m\u001b[0;34m,\u001b[0m \u001b[0mtimeout_sec\u001b[0m\u001b[0;34m=\u001b[0m\u001b[0;32mNone\u001b[0m\u001b[0;34m\u001b[0m\u001b[0;34m\u001b[0m\u001b[0m\n\u001b[1;32m    135\u001b[0m     )\n",
            "\u001b[0;32m/usr/local/lib/python3.10/dist-packages/google/colab/_message.py\u001b[0m in \u001b[0;36mblocking_request\u001b[0;34m(request_type, request, timeout_sec, parent)\u001b[0m\n\u001b[1;32m    174\u001b[0m       \u001b[0mrequest_type\u001b[0m\u001b[0;34m,\u001b[0m \u001b[0mrequest\u001b[0m\u001b[0;34m,\u001b[0m \u001b[0mparent\u001b[0m\u001b[0;34m=\u001b[0m\u001b[0mparent\u001b[0m\u001b[0;34m,\u001b[0m \u001b[0mexpect_reply\u001b[0m\u001b[0;34m=\u001b[0m\u001b[0;32mTrue\u001b[0m\u001b[0;34m\u001b[0m\u001b[0;34m\u001b[0m\u001b[0m\n\u001b[1;32m    175\u001b[0m   )\n\u001b[0;32m--> 176\u001b[0;31m   \u001b[0;32mreturn\u001b[0m \u001b[0mread_reply_from_input\u001b[0m\u001b[0;34m(\u001b[0m\u001b[0mrequest_id\u001b[0m\u001b[0;34m,\u001b[0m \u001b[0mtimeout_sec\u001b[0m\u001b[0;34m)\u001b[0m\u001b[0;34m\u001b[0m\u001b[0;34m\u001b[0m\u001b[0m\n\u001b[0m",
            "\u001b[0;32m/usr/local/lib/python3.10/dist-packages/google/colab/_message.py\u001b[0m in \u001b[0;36mread_reply_from_input\u001b[0;34m(message_id, timeout_sec)\u001b[0m\n\u001b[1;32m    101\u001b[0m     ):\n\u001b[1;32m    102\u001b[0m       \u001b[0;32mif\u001b[0m \u001b[0;34m'error'\u001b[0m \u001b[0;32min\u001b[0m \u001b[0mreply\u001b[0m\u001b[0;34m:\u001b[0m\u001b[0;34m\u001b[0m\u001b[0;34m\u001b[0m\u001b[0m\n\u001b[0;32m--> 103\u001b[0;31m         \u001b[0;32mraise\u001b[0m \u001b[0mMessageError\u001b[0m\u001b[0;34m(\u001b[0m\u001b[0mreply\u001b[0m\u001b[0;34m[\u001b[0m\u001b[0;34m'error'\u001b[0m\u001b[0;34m]\u001b[0m\u001b[0;34m)\u001b[0m\u001b[0;34m\u001b[0m\u001b[0;34m\u001b[0m\u001b[0m\n\u001b[0m\u001b[1;32m    104\u001b[0m       \u001b[0;32mreturn\u001b[0m \u001b[0mreply\u001b[0m\u001b[0;34m.\u001b[0m\u001b[0mget\u001b[0m\u001b[0;34m(\u001b[0m\u001b[0;34m'data'\u001b[0m\u001b[0;34m,\u001b[0m \u001b[0;32mNone\u001b[0m\u001b[0;34m)\u001b[0m\u001b[0;34m\u001b[0m\u001b[0;34m\u001b[0m\u001b[0m\n\u001b[1;32m    105\u001b[0m \u001b[0;34m\u001b[0m\u001b[0m\n",
            "\u001b[0;31mMessageError\u001b[0m: Error: credential propagation was unsuccessful"
          ]
        }
      ]
    },
    {
      "cell_type": "code",
      "source": [
        "from google.colab import files\n",
        "uploaded = files.upload()"
      ],
      "metadata": {
        "colab": {
          "base_uri": "https://localhost:8080/",
          "height": 73
        },
        "id": "KYQvcTUBFE4Q",
        "outputId": "c31719ca-7c1c-47b5-a298-046f819e85c9"
      },
      "execution_count": null,
      "outputs": [
        {
          "output_type": "display_data",
          "data": {
            "text/plain": [
              "<IPython.core.display.HTML object>"
            ],
            "text/html": [
              "\n",
              "     <input type=\"file\" id=\"files-615941e0-fffb-47d7-90d8-4a1386b33c4d\" name=\"files[]\" multiple disabled\n",
              "        style=\"border:none\" />\n",
              "     <output id=\"result-615941e0-fffb-47d7-90d8-4a1386b33c4d\">\n",
              "      Upload widget is only available when the cell has been executed in the\n",
              "      current browser session. Please rerun this cell to enable.\n",
              "      </output>\n",
              "      <script>// Copyright 2017 Google LLC\n",
              "//\n",
              "// Licensed under the Apache License, Version 2.0 (the \"License\");\n",
              "// you may not use this file except in compliance with the License.\n",
              "// You may obtain a copy of the License at\n",
              "//\n",
              "//      http://www.apache.org/licenses/LICENSE-2.0\n",
              "//\n",
              "// Unless required by applicable law or agreed to in writing, software\n",
              "// distributed under the License is distributed on an \"AS IS\" BASIS,\n",
              "// WITHOUT WARRANTIES OR CONDITIONS OF ANY KIND, either express or implied.\n",
              "// See the License for the specific language governing permissions and\n",
              "// limitations under the License.\n",
              "\n",
              "/**\n",
              " * @fileoverview Helpers for google.colab Python module.\n",
              " */\n",
              "(function(scope) {\n",
              "function span(text, styleAttributes = {}) {\n",
              "  const element = document.createElement('span');\n",
              "  element.textContent = text;\n",
              "  for (const key of Object.keys(styleAttributes)) {\n",
              "    element.style[key] = styleAttributes[key];\n",
              "  }\n",
              "  return element;\n",
              "}\n",
              "\n",
              "// Max number of bytes which will be uploaded at a time.\n",
              "const MAX_PAYLOAD_SIZE = 100 * 1024;\n",
              "\n",
              "function _uploadFiles(inputId, outputId) {\n",
              "  const steps = uploadFilesStep(inputId, outputId);\n",
              "  const outputElement = document.getElementById(outputId);\n",
              "  // Cache steps on the outputElement to make it available for the next call\n",
              "  // to uploadFilesContinue from Python.\n",
              "  outputElement.steps = steps;\n",
              "\n",
              "  return _uploadFilesContinue(outputId);\n",
              "}\n",
              "\n",
              "// This is roughly an async generator (not supported in the browser yet),\n",
              "// where there are multiple asynchronous steps and the Python side is going\n",
              "// to poll for completion of each step.\n",
              "// This uses a Promise to block the python side on completion of each step,\n",
              "// then passes the result of the previous step as the input to the next step.\n",
              "function _uploadFilesContinue(outputId) {\n",
              "  const outputElement = document.getElementById(outputId);\n",
              "  const steps = outputElement.steps;\n",
              "\n",
              "  const next = steps.next(outputElement.lastPromiseValue);\n",
              "  return Promise.resolve(next.value.promise).then((value) => {\n",
              "    // Cache the last promise value to make it available to the next\n",
              "    // step of the generator.\n",
              "    outputElement.lastPromiseValue = value;\n",
              "    return next.value.response;\n",
              "  });\n",
              "}\n",
              "\n",
              "/**\n",
              " * Generator function which is called between each async step of the upload\n",
              " * process.\n",
              " * @param {string} inputId Element ID of the input file picker element.\n",
              " * @param {string} outputId Element ID of the output display.\n",
              " * @return {!Iterable<!Object>} Iterable of next steps.\n",
              " */\n",
              "function* uploadFilesStep(inputId, outputId) {\n",
              "  const inputElement = document.getElementById(inputId);\n",
              "  inputElement.disabled = false;\n",
              "\n",
              "  const outputElement = document.getElementById(outputId);\n",
              "  outputElement.innerHTML = '';\n",
              "\n",
              "  const pickedPromise = new Promise((resolve) => {\n",
              "    inputElement.addEventListener('change', (e) => {\n",
              "      resolve(e.target.files);\n",
              "    });\n",
              "  });\n",
              "\n",
              "  const cancel = document.createElement('button');\n",
              "  inputElement.parentElement.appendChild(cancel);\n",
              "  cancel.textContent = 'Cancel upload';\n",
              "  const cancelPromise = new Promise((resolve) => {\n",
              "    cancel.onclick = () => {\n",
              "      resolve(null);\n",
              "    };\n",
              "  });\n",
              "\n",
              "  // Wait for the user to pick the files.\n",
              "  const files = yield {\n",
              "    promise: Promise.race([pickedPromise, cancelPromise]),\n",
              "    response: {\n",
              "      action: 'starting',\n",
              "    }\n",
              "  };\n",
              "\n",
              "  cancel.remove();\n",
              "\n",
              "  // Disable the input element since further picks are not allowed.\n",
              "  inputElement.disabled = true;\n",
              "\n",
              "  if (!files) {\n",
              "    return {\n",
              "      response: {\n",
              "        action: 'complete',\n",
              "      }\n",
              "    };\n",
              "  }\n",
              "\n",
              "  for (const file of files) {\n",
              "    const li = document.createElement('li');\n",
              "    li.append(span(file.name, {fontWeight: 'bold'}));\n",
              "    li.append(span(\n",
              "        `(${file.type || 'n/a'}) - ${file.size} bytes, ` +\n",
              "        `last modified: ${\n",
              "            file.lastModifiedDate ? file.lastModifiedDate.toLocaleDateString() :\n",
              "                                    'n/a'} - `));\n",
              "    const percent = span('0% done');\n",
              "    li.appendChild(percent);\n",
              "\n",
              "    outputElement.appendChild(li);\n",
              "\n",
              "    const fileDataPromise = new Promise((resolve) => {\n",
              "      const reader = new FileReader();\n",
              "      reader.onload = (e) => {\n",
              "        resolve(e.target.result);\n",
              "      };\n",
              "      reader.readAsArrayBuffer(file);\n",
              "    });\n",
              "    // Wait for the data to be ready.\n",
              "    let fileData = yield {\n",
              "      promise: fileDataPromise,\n",
              "      response: {\n",
              "        action: 'continue',\n",
              "      }\n",
              "    };\n",
              "\n",
              "    // Use a chunked sending to avoid message size limits. See b/62115660.\n",
              "    let position = 0;\n",
              "    do {\n",
              "      const length = Math.min(fileData.byteLength - position, MAX_PAYLOAD_SIZE);\n",
              "      const chunk = new Uint8Array(fileData, position, length);\n",
              "      position += length;\n",
              "\n",
              "      const base64 = btoa(String.fromCharCode.apply(null, chunk));\n",
              "      yield {\n",
              "        response: {\n",
              "          action: 'append',\n",
              "          file: file.name,\n",
              "          data: base64,\n",
              "        },\n",
              "      };\n",
              "\n",
              "      let percentDone = fileData.byteLength === 0 ?\n",
              "          100 :\n",
              "          Math.round((position / fileData.byteLength) * 100);\n",
              "      percent.textContent = `${percentDone}% done`;\n",
              "\n",
              "    } while (position < fileData.byteLength);\n",
              "  }\n",
              "\n",
              "  // All done.\n",
              "  yield {\n",
              "    response: {\n",
              "      action: 'complete',\n",
              "    }\n",
              "  };\n",
              "}\n",
              "\n",
              "scope.google = scope.google || {};\n",
              "scope.google.colab = scope.google.colab || {};\n",
              "scope.google.colab._files = {\n",
              "  _uploadFiles,\n",
              "  _uploadFilesContinue,\n",
              "};\n",
              "})(self);\n",
              "</script> "
            ]
          },
          "metadata": {}
        },
        {
          "output_type": "stream",
          "name": "stdout",
          "text": [
            "Saving kaggle.json to kaggle.json\n"
          ]
        }
      ]
    },
    {
      "cell_type": "code",
      "source": [
        "# making a new directory with name kaggle\n",
        "! mkdir ~/.kaggle\n",
        "# /moving kaggle.json to root\\kaggle\n",
        "! cp kaggle.json ~/.kaggle/\n",
        "\n"
      ],
      "metadata": {
        "id": "IvJIK0z9FRmO"
      },
      "execution_count": null,
      "outputs": []
    },
    {
      "cell_type": "code",
      "source": [
        "! kaggle competitions download -c 'arunrk7/surface-crack-detection'\n",
        "! kaggle datasets download -d 'arunrk7/surface-crack-detection'\n"
      ],
      "metadata": {
        "id": "nBsyQ2nDGuqh",
        "colab": {
          "base_uri": "https://localhost:8080/"
        },
        "outputId": "10bfa677-1fa8-4d9c-dea4-3968a2ea2c04"
      },
      "execution_count": null,
      "outputs": [
        {
          "output_type": "stream",
          "name": "stdout",
          "text": [
            "Warning: Your Kaggle API key is readable by other users on this system! To fix this, you can run 'chmod 600 /root/.kaggle/kaggle.json'\n",
            "403 - Forbidden - Permission 'competitions.participate' was denied\n",
            "Warning: Your Kaggle API key is readable by other users on this system! To fix this, you can run 'chmod 600 /root/.kaggle/kaggle.json'\n",
            "Downloading surface-crack-detection.zip to /content\n",
            "100% 232M/233M [00:13<00:00, 21.7MB/s]\n",
            "100% 233M/233M [00:13<00:00, 17.8MB/s]\n"
          ]
        }
      ]
    },
    {
      "cell_type": "markdown",
      "source": [],
      "metadata": {
        "id": "8ZhsdjZBTxcy"
      }
    },
    {
      "cell_type": "code",
      "source": [
        "! unzip -q /content/surface-crack-detection.zip -d /content/surface-crack-detection\n"
      ],
      "metadata": {
        "id": "qCr_RW1_JJpg"
      },
      "execution_count": null,
      "outputs": []
    },
    {
      "cell_type": "code",
      "source": [],
      "metadata": {
        "id": "1tH2AXisI5Fi"
      },
      "execution_count": null,
      "outputs": []
    },
    {
      "cell_type": "code",
      "execution_count": null,
      "metadata": {
        "id": "7eb3c86c"
      },
      "outputs": [],
      "source": [
        "import numpy as np\n",
        "import pandas as pd\n",
        "import matplotlib.pyplot as plt\n",
        "import seaborn as sns\n",
        "import plotly.express as px\n",
        "\n",
        "\n",
        "import os\n",
        "from pathlib import Path\n",
        "\n",
        "from sklearn.model_selection import train_test_split\n",
        "from sklearn.metrics import confusion_matrix, classification_report, r2_score\n",
        "\n",
        "import tensorflow as tf"
      ]
    },
    {
      "cell_type": "markdown",
      "metadata": {
        "id": "a5825ecf"
      },
      "source": [
        "### Get Positive & Negative Directories"
      ]
    },
    {
      "cell_type": "code",
      "execution_count": null,
      "metadata": {
        "id": "8a541312"
      },
      "outputs": [],
      "source": [
        "positive_dir = Path(r'/content/surface-crack-detection/Positive')\n",
        "negative_dir = Path(r'/content/surface-crack-detection/Negative')"
      ]
    },
    {
      "cell_type": "code",
      "source": [
        "for a,b,c in os.walk(r\"/content/surface-crack-detection\"):\n",
        "  print(f\"there are {len(b)} folders and {len(c)} files in {a}\")"
      ],
      "metadata": {
        "id": "s5MqiHeOJat-",
        "colab": {
          "base_uri": "https://localhost:8080/"
        },
        "outputId": "22e7de93-6ec7-439b-a1f0-23bd173a56e7"
      },
      "execution_count": null,
      "outputs": [
        {
          "output_type": "stream",
          "name": "stdout",
          "text": [
            "there are 2 folders and 0 files in /content/surface-crack-detection\n",
            "there are 0 folders and 20000 files in /content/surface-crack-detection/Positive\n",
            "there are 0 folders and 20000 files in /content/surface-crack-detection/Negative\n"
          ]
        }
      ]
    },
    {
      "cell_type": "markdown",
      "metadata": {
        "id": "e60c9312"
      },
      "source": [
        "### Creating DataFrames"
      ]
    },
    {
      "cell_type": "code",
      "execution_count": null,
      "metadata": {
        "id": "4abc92f8"
      },
      "outputs": [],
      "source": [
        "def generate_df(img_dir, label):\n",
        "\n",
        "    file_paths = pd.Series(list(img_dir.glob(r'*.jpg')), name='Filepath').astype(str)\n",
        "    labels = pd.Series(label, name='Label', index=file_paths.index)\n",
        "    df = pd.concat([file_paths, labels], axis=1)\n",
        "    return df"
      ]
    },
    {
      "cell_type": "code",
      "execution_count": null,
      "metadata": {
        "id": "88e4afd3",
        "colab": {
          "base_uri": "https://localhost:8080/"
        },
        "outputId": "e18b5ba2-5293-4148-bd68-37f7f1acc2ae"
      },
      "outputs": [
        {
          "output_type": "stream",
          "name": "stdout",
          "text": [
            "                                                Filepath     Label\n",
            "0      /content/surface-crack-detection/Positive/1279...  POSITIVE\n",
            "1      /content/surface-crack-detection/Positive/0150...  POSITIVE\n",
            "2      /content/surface-crack-detection/Positive/1774...  POSITIVE\n",
            "3      /content/surface-crack-detection/Negative/0648...  NEGATIVE\n",
            "4      /content/surface-crack-detection/Positive/1076...  POSITIVE\n",
            "...                                                  ...       ...\n",
            "39995  /content/surface-crack-detection/Positive/1397...  POSITIVE\n",
            "39996  /content/surface-crack-detection/Negative/1142...  NEGATIVE\n",
            "39997  /content/surface-crack-detection/Positive/1220...  POSITIVE\n",
            "39998  /content/surface-crack-detection/Positive/0785...  POSITIVE\n",
            "39999  /content/surface-crack-detection/Negative/0423...  NEGATIVE\n",
            "\n",
            "[40000 rows x 2 columns]\n"
          ]
        }
      ],
      "source": [
        "positive_df = generate_df(positive_dir, 'POSITIVE')\n",
        "negative_df = generate_df(negative_dir, 'NEGATIVE')\n",
        "\n",
        "all_df = pd.concat([positive_df, negative_df], axis=0).sample(frac=1, random_state=1).reset_index(drop=True)\n",
        "print(all_df)"
      ]
    },
    {
      "cell_type": "markdown",
      "metadata": {
        "id": "d8ad2cc5"
      },
      "source": [
        "### Split the DataSet"
      ]
    },
    {
      "cell_type": "code",
      "execution_count": null,
      "metadata": {
        "id": "399e9f5f"
      },
      "outputs": [],
      "source": [
        "train_df, test_df = train_test_split(all_df.sample(6000, random_state=1),\n",
        "                train_size=0.7,\n",
        "                shuffle=True,\n",
        "                random_state=1)"
      ]
    },
    {
      "cell_type": "code",
      "execution_count": null,
      "metadata": {
        "id": "f9f66ff7"
      },
      "outputs": [],
      "source": []
    },
    {
      "cell_type": "markdown",
      "metadata": {
        "id": "17340125"
      },
      "source": [
        "### Loading Image Data"
      ]
    },
    {
      "cell_type": "code",
      "execution_count": null,
      "metadata": {
        "id": "6165ad25"
      },
      "outputs": [],
      "source": [
        "train_gen = tf.keras.preprocessing.image.ImageDataGenerator(rescale=1./255,\n",
        "                                                           validation_split=0.2)\n",
        "\n",
        "test_gen = tf.keras.preprocessing.image.ImageDataGenerator(rescale=1./255)"
      ]
    },
    {
      "cell_type": "code",
      "execution_count": null,
      "metadata": {
        "id": "a55be1f8",
        "colab": {
          "base_uri": "https://localhost:8080/"
        },
        "outputId": "6e183fad-9ea7-46d8-9840-cee47de80ab6"
      },
      "outputs": [
        {
          "output_type": "stream",
          "name": "stdout",
          "text": [
            "Found 3360 validated image filenames belonging to 2 classes.\n",
            "Found 840 validated image filenames belonging to 2 classes.\n",
            "Found 1800 validated image filenames belonging to 2 classes.\n"
          ]
        }
      ],
      "source": [
        "train_data = train_gen.flow_from_dataframe(train_df,\n",
        "                                          x_col='Filepath',\n",
        "                                          y_col='Label',\n",
        "                                          target_size=(120,120),\n",
        "                                          color_mode='rgb',\n",
        "                                          class_mode='binary',\n",
        "                                          batch_size=32,\n",
        "                                          shuffle=True,\n",
        "                                          seed=42,\n",
        "                                          subset='training')\n",
        "\n",
        "\n",
        "val_data = train_gen.flow_from_dataframe(train_df,\n",
        "                                          x_col='Filepath',\n",
        "                                          y_col='Label',\n",
        "                                          target_size=(120,120),\n",
        "                                          color_mode='rgb',\n",
        "                                          class_mode='binary',\n",
        "                                          batch_size=32,\n",
        "                                          shuffle=True,\n",
        "                                          seed=42,\n",
        "                                          subset='validation')\n",
        "\n",
        "\n",
        "test_data = test_gen.flow_from_dataframe(test_df,\n",
        "                                          x_col='Filepath',\n",
        "                                          y_col='Label',\n",
        "                                          target_size=(120,120),\n",
        "                                          color_mode='rgb',\n",
        "                                          class_mode='binary',\n",
        "                                          batch_size=32,\n",
        "                                          shuffle=False,\n",
        "                                          seed=42)"
      ]
    },
    {
      "cell_type": "code",
      "execution_count": null,
      "metadata": {
        "id": "0087b609",
        "colab": {
          "base_uri": "https://localhost:8080/"
        },
        "outputId": "1373437b-3e29-4cda-df8a-04034426227a"
      },
      "outputs": [
        {
          "output_type": "execute_result",
          "data": {
            "text/plain": [
              "<keras.src.preprocessing.image.DataFrameIterator at 0x7b9b1941a470>"
            ]
          },
          "metadata": {},
          "execution_count": 15
        }
      ],
      "source": [
        "test_data"
      ]
    },
    {
      "cell_type": "code",
      "execution_count": null,
      "metadata": {
        "id": "6a17c41b"
      },
      "outputs": [],
      "source": []
    },
    {
      "cell_type": "markdown",
      "metadata": {
        "id": "369c5e44"
      },
      "source": [
        "### Model building"
      ]
    },
    {
      "cell_type": "code",
      "execution_count": null,
      "metadata": {
        "id": "2ee01df2"
      },
      "outputs": [],
      "source": [
        "inputs = tf.keras.Input(shape=(120,120,3))\n",
        "x = tf.keras.layers.Conv2D(filters=16, kernel_size=(3,3), activation='relu')(inputs)\n",
        "x = tf.keras.layers.MaxPool2D(pool_size=(2,2))(x)\n",
        "x = tf.keras.layers.Conv2D(filters=32, kernel_size=(3,3), activation='relu')(x)\n",
        "x = tf.keras.layers.MaxPool2D(pool_size=(2,2))(x)\n",
        "\n",
        "x = tf.keras.layers.GlobalAveragePooling2D()(x)\n",
        "outputs = tf.keras.layers.Dense(1, activation='sigmoid')(x)"
      ]
    },
    {
      "cell_type": "code",
      "execution_count": null,
      "metadata": {
        "id": "a92a1daa"
      },
      "outputs": [],
      "source": [
        "model = tf.keras.Model(inputs=inputs, outputs=outputs)"
      ]
    },
    {
      "cell_type": "code",
      "execution_count": null,
      "metadata": {
        "id": "5c6b99c4"
      },
      "outputs": [],
      "source": [
        "model.compile(optimizer='adam',\n",
        "             loss='binary_crossentropy',\n",
        "             metrics=['accuracy'])"
      ]
    },
    {
      "cell_type": "code",
      "execution_count": null,
      "metadata": {
        "scrolled": false,
        "id": "539d5943",
        "colab": {
          "base_uri": "https://localhost:8080/"
        },
        "outputId": "9037a21a-8420-4937-c009-92fdd062f5b1"
      },
      "outputs": [
        {
          "output_type": "stream",
          "name": "stdout",
          "text": [
            "Model: \"model\"\n",
            "_________________________________________________________________\n",
            " Layer (type)                Output Shape              Param #   \n",
            "=================================================================\n",
            " input_1 (InputLayer)        [(None, 120, 120, 3)]     0         \n",
            "                                                                 \n",
            " conv2d (Conv2D)             (None, 118, 118, 16)      448       \n",
            "                                                                 \n",
            " max_pooling2d (MaxPooling2  (None, 59, 59, 16)        0         \n",
            " D)                                                              \n",
            "                                                                 \n",
            " conv2d_1 (Conv2D)           (None, 57, 57, 32)        4640      \n",
            "                                                                 \n",
            " max_pooling2d_1 (MaxPoolin  (None, 28, 28, 32)        0         \n",
            " g2D)                                                            \n",
            "                                                                 \n",
            " global_average_pooling2d (  (None, 32)                0         \n",
            " GlobalAveragePooling2D)                                         \n",
            "                                                                 \n",
            " dense (Dense)               (None, 1)                 33        \n",
            "                                                                 \n",
            "=================================================================\n",
            "Total params: 5121 (20.00 KB)\n",
            "Trainable params: 5121 (20.00 KB)\n",
            "Non-trainable params: 0 (0.00 Byte)\n",
            "_________________________________________________________________\n"
          ]
        }
      ],
      "source": [
        "# print model summary\n",
        "model.summary()"
      ]
    },
    {
      "cell_type": "code",
      "execution_count": null,
      "metadata": {
        "id": "4f965475",
        "colab": {
          "base_uri": "https://localhost:8080/"
        },
        "outputId": "23d8246c-fc8b-4e8d-f24e-c575edc3df88"
      },
      "outputs": [
        {
          "output_type": "stream",
          "name": "stdout",
          "text": [
            "Epoch 1/100\n",
            "105/105 [==============================] - 9s 39ms/step - loss: 0.6709 - accuracy: 0.6286 - val_loss: 0.6278 - val_accuracy: 0.6119\n",
            "Epoch 2/100\n",
            "105/105 [==============================] - 8s 81ms/step - loss: 0.5997 - accuracy: 0.7024 - val_loss: 0.5762 - val_accuracy: 0.6464\n",
            "Epoch 3/100\n",
            "105/105 [==============================] - 7s 71ms/step - loss: 0.5049 - accuracy: 0.8289 - val_loss: 0.4259 - val_accuracy: 0.9060\n",
            "Epoch 4/100\n",
            "105/105 [==============================] - 4s 36ms/step - loss: 0.4058 - accuracy: 0.9009 - val_loss: 0.3361 - val_accuracy: 0.9440\n",
            "Epoch 5/100\n",
            "105/105 [==============================] - 4s 42ms/step - loss: 0.3173 - accuracy: 0.9202 - val_loss: 0.2438 - val_accuracy: 0.9369\n",
            "Epoch 6/100\n",
            "105/105 [==============================] - 4s 40ms/step - loss: 0.2413 - accuracy: 0.9399 - val_loss: 0.1867 - val_accuracy: 0.9607\n",
            "Epoch 7/100\n",
            "105/105 [==============================] - 4s 36ms/step - loss: 0.2124 - accuracy: 0.9375 - val_loss: 0.1645 - val_accuracy: 0.9714\n",
            "Epoch 8/100\n",
            "105/105 [==============================] - 4s 42ms/step - loss: 0.1778 - accuracy: 0.9506 - val_loss: 0.1330 - val_accuracy: 0.9560\n",
            "Epoch 9/100\n",
            "105/105 [==============================] - 4s 37ms/step - loss: 0.1520 - accuracy: 0.9577 - val_loss: 0.1129 - val_accuracy: 0.9738\n",
            "Epoch 10/100\n",
            "105/105 [==============================] - 4s 36ms/step - loss: 0.1332 - accuracy: 0.9628 - val_loss: 0.0956 - val_accuracy: 0.9750\n",
            "Epoch 11/100\n",
            "105/105 [==============================] - 5s 46ms/step - loss: 0.1271 - accuracy: 0.9619 - val_loss: 0.0990 - val_accuracy: 0.9821\n",
            "Epoch 12/100\n",
            "105/105 [==============================] - 4s 40ms/step - loss: 0.1151 - accuracy: 0.9652 - val_loss: 0.0769 - val_accuracy: 0.9821\n",
            "Epoch 13/100\n",
            "105/105 [==============================] - 4s 41ms/step - loss: 0.1027 - accuracy: 0.9673 - val_loss: 0.0948 - val_accuracy: 0.9714\n",
            "Epoch 14/100\n",
            "105/105 [==============================] - 5s 44ms/step - loss: 0.1014 - accuracy: 0.9664 - val_loss: 0.0758 - val_accuracy: 0.9833\n",
            "Epoch 15/100\n",
            "105/105 [==============================] - 4s 38ms/step - loss: 0.1009 - accuracy: 0.9688 - val_loss: 0.0849 - val_accuracy: 0.9774\n",
            "Epoch 16/100\n",
            "105/105 [==============================] - 4s 35ms/step - loss: 0.0917 - accuracy: 0.9723 - val_loss: 0.0637 - val_accuracy: 0.9833\n",
            "Epoch 17/100\n",
            "105/105 [==============================] - 5s 47ms/step - loss: 0.0887 - accuracy: 0.9702 - val_loss: 0.1006 - val_accuracy: 0.9607\n",
            "Epoch 18/100\n",
            "105/105 [==============================] - 4s 35ms/step - loss: 0.0890 - accuracy: 0.9696 - val_loss: 0.0626 - val_accuracy: 0.9845\n",
            "Epoch 19/100\n",
            "105/105 [==============================] - 4s 37ms/step - loss: 0.0779 - accuracy: 0.9732 - val_loss: 0.0512 - val_accuracy: 0.9869\n",
            "Epoch 20/100\n",
            "105/105 [==============================] - 5s 50ms/step - loss: 0.0758 - accuracy: 0.9753 - val_loss: 0.0507 - val_accuracy: 0.9845\n",
            "Epoch 21/100\n",
            "105/105 [==============================] - 4s 36ms/step - loss: 0.0799 - accuracy: 0.9744 - val_loss: 0.0580 - val_accuracy: 0.9869\n",
            "Epoch 22/100\n",
            "105/105 [==============================] - 5s 47ms/step - loss: 0.0719 - accuracy: 0.9738 - val_loss: 0.0581 - val_accuracy: 0.9810\n",
            "Epoch 23/100\n",
            "105/105 [==============================] - 4s 36ms/step - loss: 0.0680 - accuracy: 0.9777 - val_loss: 0.0453 - val_accuracy: 0.9857\n",
            "Epoch 24/100\n",
            "105/105 [==============================] - 4s 34ms/step - loss: 0.0726 - accuracy: 0.9786 - val_loss: 0.0868 - val_accuracy: 0.9679\n",
            "Epoch 25/100\n",
            "105/105 [==============================] - 5s 48ms/step - loss: 0.0898 - accuracy: 0.9708 - val_loss: 0.0617 - val_accuracy: 0.9857\n",
            "Epoch 26/100\n",
            "105/105 [==============================] - 4s 36ms/step - loss: 0.0716 - accuracy: 0.9768 - val_loss: 0.0461 - val_accuracy: 0.9881\n",
            "Epoch 27/100\n",
            "105/105 [==============================] - 4s 35ms/step - loss: 0.0614 - accuracy: 0.9795 - val_loss: 0.0417 - val_accuracy: 0.9881\n",
            "Epoch 28/100\n",
            "105/105 [==============================] - 5s 47ms/step - loss: 0.0594 - accuracy: 0.9804 - val_loss: 0.0409 - val_accuracy: 0.9881\n",
            "Epoch 29/100\n",
            "105/105 [==============================] - 4s 36ms/step - loss: 0.0578 - accuracy: 0.9804 - val_loss: 0.0427 - val_accuracy: 0.9869\n",
            "Epoch 30/100\n",
            "105/105 [==============================] - 4s 36ms/step - loss: 0.0554 - accuracy: 0.9830 - val_loss: 0.0369 - val_accuracy: 0.9869\n",
            "Epoch 31/100\n",
            "105/105 [==============================] - 5s 50ms/step - loss: 0.0660 - accuracy: 0.9780 - val_loss: 0.0418 - val_accuracy: 0.9881\n",
            "Epoch 32/100\n",
            "105/105 [==============================] - 4s 36ms/step - loss: 0.0575 - accuracy: 0.9804 - val_loss: 0.0400 - val_accuracy: 0.9893\n",
            "Epoch 33/100\n",
            "105/105 [==============================] - 4s 41ms/step - loss: 0.0620 - accuracy: 0.9795 - val_loss: 0.0419 - val_accuracy: 0.9845\n",
            "Epoch 34/100\n",
            "105/105 [==============================] - 5s 43ms/step - loss: 0.0555 - accuracy: 0.9830 - val_loss: 0.0395 - val_accuracy: 0.9833\n",
            "Epoch 35/100\n",
            "105/105 [==============================] - 4s 34ms/step - loss: 0.0730 - accuracy: 0.9771 - val_loss: 0.0710 - val_accuracy: 0.9821\n",
            "Epoch 36/100\n",
            "105/105 [==============================] - 4s 37ms/step - loss: 0.0605 - accuracy: 0.9798 - val_loss: 0.0430 - val_accuracy: 0.9881\n",
            "Epoch 37/100\n",
            "105/105 [==============================] - 4s 40ms/step - loss: 0.0579 - accuracy: 0.9804 - val_loss: 0.0436 - val_accuracy: 0.9881\n",
            "Epoch 38/100\n",
            "105/105 [==============================] - 4s 37ms/step - loss: 0.0548 - accuracy: 0.9833 - val_loss: 0.0404 - val_accuracy: 0.9881\n",
            "Epoch 39/100\n",
            "105/105 [==============================] - 5s 44ms/step - loss: 0.0563 - accuracy: 0.9812 - val_loss: 0.0360 - val_accuracy: 0.9893\n",
            "Epoch 40/100\n",
            "105/105 [==============================] - 4s 41ms/step - loss: 0.0534 - accuracy: 0.9833 - val_loss: 0.0376 - val_accuracy: 0.9893\n",
            "Epoch 41/100\n",
            "105/105 [==============================] - 4s 36ms/step - loss: 0.0509 - accuracy: 0.9836 - val_loss: 0.0353 - val_accuracy: 0.9881\n",
            "Epoch 42/100\n",
            "105/105 [==============================] - 5s 50ms/step - loss: 0.0739 - accuracy: 0.9771 - val_loss: 0.0442 - val_accuracy: 0.9869\n",
            "Epoch 43/100\n",
            "105/105 [==============================] - 4s 36ms/step - loss: 0.0540 - accuracy: 0.9807 - val_loss: 0.0402 - val_accuracy: 0.9881\n",
            "Epoch 44/100\n",
            "105/105 [==============================] - 4s 37ms/step - loss: 0.0563 - accuracy: 0.9812 - val_loss: 0.0371 - val_accuracy: 0.9893\n",
            "Epoch 45/100\n",
            "105/105 [==============================] - 5s 45ms/step - loss: 0.0610 - accuracy: 0.9786 - val_loss: 0.0489 - val_accuracy: 0.9833\n",
            "Epoch 46/100\n",
            "105/105 [==============================] - 4s 37ms/step - loss: 0.0539 - accuracy: 0.9810 - val_loss: 0.0372 - val_accuracy: 0.9893\n",
            "Epoch 47/100\n",
            "105/105 [==============================] - 4s 35ms/step - loss: 0.0479 - accuracy: 0.9833 - val_loss: 0.0418 - val_accuracy: 0.9869\n",
            "Epoch 48/100\n",
            "105/105 [==============================] - 5s 48ms/step - loss: 0.0533 - accuracy: 0.9812 - val_loss: 0.0342 - val_accuracy: 0.9893\n",
            "Epoch 49/100\n",
            "105/105 [==============================] - 4s 36ms/step - loss: 0.0561 - accuracy: 0.9812 - val_loss: 0.0355 - val_accuracy: 0.9893\n",
            "Epoch 50/100\n",
            "105/105 [==============================] - 4s 36ms/step - loss: 0.0519 - accuracy: 0.9833 - val_loss: 0.0374 - val_accuracy: 0.9893\n",
            "Epoch 51/100\n",
            "105/105 [==============================] - 5s 49ms/step - loss: 0.0495 - accuracy: 0.9854 - val_loss: 0.0351 - val_accuracy: 0.9881\n",
            "Epoch 52/100\n",
            "105/105 [==============================] - 4s 38ms/step - loss: 0.0529 - accuracy: 0.9807 - val_loss: 0.0375 - val_accuracy: 0.9905\n",
            "Epoch 53/100\n",
            "105/105 [==============================] - 4s 39ms/step - loss: 0.0503 - accuracy: 0.9842 - val_loss: 0.0355 - val_accuracy: 0.9881\n",
            "Epoch 54/100\n",
            "105/105 [==============================] - 5s 43ms/step - loss: 0.0493 - accuracy: 0.9824 - val_loss: 0.0327 - val_accuracy: 0.9881\n",
            "Epoch 55/100\n",
            "105/105 [==============================] - 4s 37ms/step - loss: 0.0464 - accuracy: 0.9845 - val_loss: 0.0388 - val_accuracy: 0.9881\n",
            "Epoch 56/100\n",
            "105/105 [==============================] - 4s 36ms/step - loss: 0.0502 - accuracy: 0.9851 - val_loss: 0.0339 - val_accuracy: 0.9881\n",
            "Epoch 57/100\n",
            "105/105 [==============================] - 5s 47ms/step - loss: 0.0507 - accuracy: 0.9833 - val_loss: 0.0336 - val_accuracy: 0.9893\n",
            "Epoch 58/100\n",
            "105/105 [==============================] - 4s 35ms/step - loss: 0.0506 - accuracy: 0.9839 - val_loss: 0.0451 - val_accuracy: 0.9845\n",
            "Epoch 59/100\n",
            "105/105 [==============================] - 4s 35ms/step - loss: 0.0501 - accuracy: 0.9833 - val_loss: 0.0680 - val_accuracy: 0.9774\n",
            "Epoch 60/100\n",
            "105/105 [==============================] - 5s 44ms/step - loss: 0.0583 - accuracy: 0.9801 - val_loss: 0.0406 - val_accuracy: 0.9869\n",
            "Epoch 61/100\n",
            "105/105 [==============================] - 4s 35ms/step - loss: 0.0485 - accuracy: 0.9836 - val_loss: 0.0341 - val_accuracy: 0.9893\n",
            "Epoch 62/100\n",
            "105/105 [==============================] - 4s 41ms/step - loss: 0.0482 - accuracy: 0.9836 - val_loss: 0.0515 - val_accuracy: 0.9833\n",
            "Epoch 63/100\n",
            "105/105 [==============================] - 5s 43ms/step - loss: 0.0512 - accuracy: 0.9857 - val_loss: 0.0341 - val_accuracy: 0.9893\n",
            "Epoch 64/100\n",
            "105/105 [==============================] - 4s 37ms/step - loss: 0.0512 - accuracy: 0.9842 - val_loss: 0.0353 - val_accuracy: 0.9881\n",
            "Epoch 65/100\n",
            "105/105 [==============================] - 4s 40ms/step - loss: 0.0512 - accuracy: 0.9836 - val_loss: 0.0424 - val_accuracy: 0.9869\n",
            "Epoch 66/100\n",
            "105/105 [==============================] - 5s 45ms/step - loss: 0.0491 - accuracy: 0.9815 - val_loss: 0.0379 - val_accuracy: 0.9881\n",
            "Epoch 67/100\n",
            "105/105 [==============================] - 4s 36ms/step - loss: 0.0578 - accuracy: 0.9830 - val_loss: 0.0373 - val_accuracy: 0.9869\n",
            "Epoch 68/100\n",
            "105/105 [==============================] - 4s 36ms/step - loss: 0.0515 - accuracy: 0.9848 - val_loss: 0.0363 - val_accuracy: 0.9881\n",
            "Epoch 69/100\n",
            "105/105 [==============================] - 7s 64ms/step - loss: 0.0533 - accuracy: 0.9827 - val_loss: 0.0353 - val_accuracy: 0.9917\n",
            "Epoch 70/100\n",
            "105/105 [==============================] - 4s 35ms/step - loss: 0.0478 - accuracy: 0.9842 - val_loss: 0.0362 - val_accuracy: 0.9881\n",
            "Epoch 71/100\n",
            "105/105 [==============================] - 5s 49ms/step - loss: 0.0504 - accuracy: 0.9824 - val_loss: 0.0339 - val_accuracy: 0.9893\n",
            "Epoch 72/100\n",
            "105/105 [==============================] - 4s 35ms/step - loss: 0.0498 - accuracy: 0.9839 - val_loss: 0.0381 - val_accuracy: 0.9881\n",
            "Epoch 73/100\n",
            "105/105 [==============================] - 4s 35ms/step - loss: 0.0521 - accuracy: 0.9833 - val_loss: 0.0828 - val_accuracy: 0.9714\n",
            "Epoch 74/100\n",
            "105/105 [==============================] - 5s 47ms/step - loss: 0.0547 - accuracy: 0.9827 - val_loss: 0.0417 - val_accuracy: 0.9881\n",
            "Epoch 75/100\n",
            "105/105 [==============================] - 4s 37ms/step - loss: 0.0549 - accuracy: 0.9827 - val_loss: 0.0422 - val_accuracy: 0.9881\n",
            "Epoch 76/100\n",
            "105/105 [==============================] - 4s 38ms/step - loss: 0.0493 - accuracy: 0.9851 - val_loss: 0.0353 - val_accuracy: 0.9881\n",
            "Epoch 77/100\n",
            "105/105 [==============================] - 5s 49ms/step - loss: 0.0505 - accuracy: 0.9839 - val_loss: 0.0327 - val_accuracy: 0.9881\n",
            "Epoch 78/100\n",
            "105/105 [==============================] - 4s 37ms/step - loss: 0.0483 - accuracy: 0.9851 - val_loss: 0.0330 - val_accuracy: 0.9905\n",
            "Epoch 79/100\n",
            "105/105 [==============================] - 4s 36ms/step - loss: 0.0688 - accuracy: 0.9795 - val_loss: 0.0689 - val_accuracy: 0.9774\n",
            "Epoch 80/100\n",
            "105/105 [==============================] - 5s 48ms/step - loss: 0.0532 - accuracy: 0.9824 - val_loss: 0.0357 - val_accuracy: 0.9881\n",
            "Epoch 81/100\n",
            "105/105 [==============================] - 4s 38ms/step - loss: 0.0501 - accuracy: 0.9836 - val_loss: 0.0365 - val_accuracy: 0.9869\n",
            "Epoch 82/100\n",
            "105/105 [==============================] - 4s 41ms/step - loss: 0.0479 - accuracy: 0.9842 - val_loss: 0.0346 - val_accuracy: 0.9893\n",
            "Epoch 83/100\n",
            "105/105 [==============================] - 4s 39ms/step - loss: 0.0568 - accuracy: 0.9827 - val_loss: 0.0422 - val_accuracy: 0.9881\n",
            "Epoch 84/100\n",
            "105/105 [==============================] - 4s 35ms/step - loss: 0.0454 - accuracy: 0.9860 - val_loss: 0.0338 - val_accuracy: 0.9893\n"
          ]
        }
      ],
      "source": [
        "history = model.fit(train_data, validation_data=val_data, epochs=100,\n",
        "                   callbacks=[tf.keras.callbacks.EarlyStopping(monitor='val_loss',\n",
        "                                                              patience=30,\n",
        "                                                              restore_best_weights=True)\n",
        "                             ])"
      ]
    },
    {
      "cell_type": "markdown",
      "metadata": {
        "id": "29ad7c7e"
      },
      "source": [
        "### Plotting"
      ]
    },
    {
      "cell_type": "code",
      "execution_count": null,
      "metadata": {
        "id": "4b346c73",
        "colab": {
          "base_uri": "https://localhost:8080/",
          "height": 542
        },
        "outputId": "b85002be-fce8-41fa-930b-1317b692c13f"
      },
      "outputs": [
        {
          "output_type": "display_data",
          "data": {
            "text/html": [
              "<html>\n",
              "<head><meta charset=\"utf-8\" /></head>\n",
              "<body>\n",
              "    <div>            <script src=\"https://cdnjs.cloudflare.com/ajax/libs/mathjax/2.7.5/MathJax.js?config=TeX-AMS-MML_SVG\"></script><script type=\"text/javascript\">if (window.MathJax && window.MathJax.Hub && window.MathJax.Hub.Config) {window.MathJax.Hub.Config({SVG: {font: \"STIX-Web\"}});}</script>                <script type=\"text/javascript\">window.PlotlyConfig = {MathJaxConfig: 'local'};</script>\n",
              "        <script charset=\"utf-8\" src=\"https://cdn.plot.ly/plotly-2.24.1.min.js\"></script>                <div id=\"b6d65165-5f8a-4d7e-b9dc-889408ba7778\" class=\"plotly-graph-div\" style=\"height:525px; width:100%;\"></div>            <script type=\"text/javascript\">                                    window.PLOTLYENV=window.PLOTLYENV || {};                                    if (document.getElementById(\"b6d65165-5f8a-4d7e-b9dc-889408ba7778\")) {                    Plotly.newPlot(                        \"b6d65165-5f8a-4d7e-b9dc-889408ba7778\",                        [{\"hovertemplate\":\"variable=loss\\u003cbr\\u003eEpoch=%{x}\\u003cbr\\u003evalue=%{y}\\u003cextra\\u003e\\u003c\\u002fextra\\u003e\",\"legendgroup\":\"loss\",\"line\":{\"color\":\"#636efa\",\"dash\":\"solid\"},\"marker\":{\"symbol\":\"circle\"},\"mode\":\"lines\",\"name\":\"loss\",\"orientation\":\"v\",\"showlegend\":true,\"x\":[0,1,2,3,4,5,6,7,8,9,10,11,12,13,14,15,16,17,18,19,20,21,22,23,24,25,26,27,28,29,30,31,32,33,34,35,36,37,38,39,40,41,42,43,44,45,46,47,48,49,50,51,52,53,54,55,56,57,58,59,60,61,62,63,64,65,66,67,68,69,70,71,72,73,74,75,76,77,78,79,80,81,82,83],\"xaxis\":\"x\",\"y\":[0.6708756685256958,0.5997457504272461,0.5049190521240234,0.4058329164981842,0.31732887029647827,0.24131815135478973,0.21241845190525055,0.17783042788505554,0.15198858082294464,0.13321058452129364,0.12711849808692932,0.11512888967990875,0.10274983942508698,0.10143880546092987,0.10091672837734222,0.09171602874994278,0.08871948719024658,0.08903366327285767,0.07789327204227448,0.0758199617266655,0.0799482986330986,0.07193270325660706,0.06795254349708557,0.07263632863759995,0.08980792760848999,0.07156066596508026,0.06138484925031662,0.05937057361006737,0.05783926695585251,0.05543737858533859,0.0659894272685051,0.05747201666235924,0.06200855225324631,0.055523645132780075,0.07295851409435272,0.06048126146197319,0.05791572853922844,0.0548095740377903,0.05630134791135788,0.05336305871605873,0.05088105797767639,0.07385162264108658,0.05397321656346321,0.056333500891923904,0.0609593465924263,0.05386659875512123,0.047883350402116776,0.05330986902117729,0.05610749498009682,0.05187530070543289,0.049471188336610794,0.052857402712106705,0.05029645562171936,0.04928773269057274,0.04639149084687233,0.050160184502601624,0.0506909154355526,0.05064725875854492,0.050068169832229614,0.058271344751119614,0.04845573380589485,0.04823442921042442,0.05118030309677124,0.05118891969323158,0.05121927708387375,0.049056828022003174,0.05775437876582146,0.05151521414518356,0.05334002152085304,0.047751400619745255,0.050408437848091125,0.04979690909385681,0.05205564573407173,0.05468855798244476,0.05489274114370346,0.04932714253664017,0.050512295216321945,0.048281848430633545,0.0687972903251648,0.05320797860622406,0.05005607753992081,0.04791278392076492,0.05680760368704796,0.04535594955086708],\"yaxis\":\"y\",\"type\":\"scatter\"},{\"hovertemplate\":\"variable=val_loss\\u003cbr\\u003eEpoch=%{x}\\u003cbr\\u003evalue=%{y}\\u003cextra\\u003e\\u003c\\u002fextra\\u003e\",\"legendgroup\":\"val_loss\",\"line\":{\"color\":\"#EF553B\",\"dash\":\"solid\"},\"marker\":{\"symbol\":\"circle\"},\"mode\":\"lines\",\"name\":\"val_loss\",\"orientation\":\"v\",\"showlegend\":true,\"x\":[0,1,2,3,4,5,6,7,8,9,10,11,12,13,14,15,16,17,18,19,20,21,22,23,24,25,26,27,28,29,30,31,32,33,34,35,36,37,38,39,40,41,42,43,44,45,46,47,48,49,50,51,52,53,54,55,56,57,58,59,60,61,62,63,64,65,66,67,68,69,70,71,72,73,74,75,76,77,78,79,80,81,82,83],\"xaxis\":\"x\",\"y\":[0.6277581453323364,0.5762290358543396,0.4258686900138855,0.336127370595932,0.24376821517944336,0.18672962486743927,0.16445472836494446,0.13298022747039795,0.11291427910327911,0.09556697309017181,0.0990145280957222,0.07690223306417465,0.09478965401649475,0.07575548440217972,0.08486684411764145,0.06366699934005737,0.10058652609586716,0.0626203641295433,0.051235493272542953,0.05072127282619476,0.058008890599012375,0.05812886729836464,0.045325614511966705,0.08683118969202042,0.06172701343894005,0.046094462275505066,0.04168395698070526,0.04094899818301201,0.042717039585113525,0.036922749131917953,0.04179546236991882,0.04001070559024811,0.041876982897520065,0.03951205685734749,0.07104001194238663,0.04297814145684242,0.04362025856971741,0.0404144823551178,0.03600182384252548,0.03763968497514725,0.03529674932360649,0.044172100722789764,0.040163006633520126,0.03709125891327858,0.048901308327913284,0.03718004748225212,0.04179958254098892,0.034176625311374664,0.03552449867129326,0.03738801181316376,0.03505856171250343,0.03748582303524017,0.035500697791576385,0.032682888209819794,0.038804683834314346,0.03391342982649803,0.033604465425014496,0.04512554407119751,0.06804249435663223,0.04056478664278984,0.03414103761315346,0.05154811218380928,0.034137532114982605,0.03525180742144585,0.04241783916950226,0.037884850054979324,0.03728802129626274,0.03626971319317818,0.035348907113075256,0.036212239414453506,0.03389691188931465,0.03813847526907921,0.08281870931386948,0.0417296439409256,0.04219197854399681,0.03531912341713905,0.03270037844777107,0.032968711107969284,0.06886016577482224,0.03572434186935425,0.03651992604136467,0.03459389880299568,0.04219046235084534,0.03383798897266388],\"yaxis\":\"y\",\"type\":\"scatter\"}],                        {\"template\":{\"data\":{\"histogram2dcontour\":[{\"type\":\"histogram2dcontour\",\"colorbar\":{\"outlinewidth\":0,\"ticks\":\"\"},\"colorscale\":[[0.0,\"#0d0887\"],[0.1111111111111111,\"#46039f\"],[0.2222222222222222,\"#7201a8\"],[0.3333333333333333,\"#9c179e\"],[0.4444444444444444,\"#bd3786\"],[0.5555555555555556,\"#d8576b\"],[0.6666666666666666,\"#ed7953\"],[0.7777777777777778,\"#fb9f3a\"],[0.8888888888888888,\"#fdca26\"],[1.0,\"#f0f921\"]]}],\"choropleth\":[{\"type\":\"choropleth\",\"colorbar\":{\"outlinewidth\":0,\"ticks\":\"\"}}],\"histogram2d\":[{\"type\":\"histogram2d\",\"colorbar\":{\"outlinewidth\":0,\"ticks\":\"\"},\"colorscale\":[[0.0,\"#0d0887\"],[0.1111111111111111,\"#46039f\"],[0.2222222222222222,\"#7201a8\"],[0.3333333333333333,\"#9c179e\"],[0.4444444444444444,\"#bd3786\"],[0.5555555555555556,\"#d8576b\"],[0.6666666666666666,\"#ed7953\"],[0.7777777777777778,\"#fb9f3a\"],[0.8888888888888888,\"#fdca26\"],[1.0,\"#f0f921\"]]}],\"heatmap\":[{\"type\":\"heatmap\",\"colorbar\":{\"outlinewidth\":0,\"ticks\":\"\"},\"colorscale\":[[0.0,\"#0d0887\"],[0.1111111111111111,\"#46039f\"],[0.2222222222222222,\"#7201a8\"],[0.3333333333333333,\"#9c179e\"],[0.4444444444444444,\"#bd3786\"],[0.5555555555555556,\"#d8576b\"],[0.6666666666666666,\"#ed7953\"],[0.7777777777777778,\"#fb9f3a\"],[0.8888888888888888,\"#fdca26\"],[1.0,\"#f0f921\"]]}],\"heatmapgl\":[{\"type\":\"heatmapgl\",\"colorbar\":{\"outlinewidth\":0,\"ticks\":\"\"},\"colorscale\":[[0.0,\"#0d0887\"],[0.1111111111111111,\"#46039f\"],[0.2222222222222222,\"#7201a8\"],[0.3333333333333333,\"#9c179e\"],[0.4444444444444444,\"#bd3786\"],[0.5555555555555556,\"#d8576b\"],[0.6666666666666666,\"#ed7953\"],[0.7777777777777778,\"#fb9f3a\"],[0.8888888888888888,\"#fdca26\"],[1.0,\"#f0f921\"]]}],\"contourcarpet\":[{\"type\":\"contourcarpet\",\"colorbar\":{\"outlinewidth\":0,\"ticks\":\"\"}}],\"contour\":[{\"type\":\"contour\",\"colorbar\":{\"outlinewidth\":0,\"ticks\":\"\"},\"colorscale\":[[0.0,\"#0d0887\"],[0.1111111111111111,\"#46039f\"],[0.2222222222222222,\"#7201a8\"],[0.3333333333333333,\"#9c179e\"],[0.4444444444444444,\"#bd3786\"],[0.5555555555555556,\"#d8576b\"],[0.6666666666666666,\"#ed7953\"],[0.7777777777777778,\"#fb9f3a\"],[0.8888888888888888,\"#fdca26\"],[1.0,\"#f0f921\"]]}],\"surface\":[{\"type\":\"surface\",\"colorbar\":{\"outlinewidth\":0,\"ticks\":\"\"},\"colorscale\":[[0.0,\"#0d0887\"],[0.1111111111111111,\"#46039f\"],[0.2222222222222222,\"#7201a8\"],[0.3333333333333333,\"#9c179e\"],[0.4444444444444444,\"#bd3786\"],[0.5555555555555556,\"#d8576b\"],[0.6666666666666666,\"#ed7953\"],[0.7777777777777778,\"#fb9f3a\"],[0.8888888888888888,\"#fdca26\"],[1.0,\"#f0f921\"]]}],\"mesh3d\":[{\"type\":\"mesh3d\",\"colorbar\":{\"outlinewidth\":0,\"ticks\":\"\"}}],\"scatter\":[{\"fillpattern\":{\"fillmode\":\"overlay\",\"size\":10,\"solidity\":0.2},\"type\":\"scatter\"}],\"parcoords\":[{\"type\":\"parcoords\",\"line\":{\"colorbar\":{\"outlinewidth\":0,\"ticks\":\"\"}}}],\"scatterpolargl\":[{\"type\":\"scatterpolargl\",\"marker\":{\"colorbar\":{\"outlinewidth\":0,\"ticks\":\"\"}}}],\"bar\":[{\"error_x\":{\"color\":\"#2a3f5f\"},\"error_y\":{\"color\":\"#2a3f5f\"},\"marker\":{\"line\":{\"color\":\"#E5ECF6\",\"width\":0.5},\"pattern\":{\"fillmode\":\"overlay\",\"size\":10,\"solidity\":0.2}},\"type\":\"bar\"}],\"scattergeo\":[{\"type\":\"scattergeo\",\"marker\":{\"colorbar\":{\"outlinewidth\":0,\"ticks\":\"\"}}}],\"scatterpolar\":[{\"type\":\"scatterpolar\",\"marker\":{\"colorbar\":{\"outlinewidth\":0,\"ticks\":\"\"}}}],\"histogram\":[{\"marker\":{\"pattern\":{\"fillmode\":\"overlay\",\"size\":10,\"solidity\":0.2}},\"type\":\"histogram\"}],\"scattergl\":[{\"type\":\"scattergl\",\"marker\":{\"colorbar\":{\"outlinewidth\":0,\"ticks\":\"\"}}}],\"scatter3d\":[{\"type\":\"scatter3d\",\"line\":{\"colorbar\":{\"outlinewidth\":0,\"ticks\":\"\"}},\"marker\":{\"colorbar\":{\"outlinewidth\":0,\"ticks\":\"\"}}}],\"scattermapbox\":[{\"type\":\"scattermapbox\",\"marker\":{\"colorbar\":{\"outlinewidth\":0,\"ticks\":\"\"}}}],\"scatterternary\":[{\"type\":\"scatterternary\",\"marker\":{\"colorbar\":{\"outlinewidth\":0,\"ticks\":\"\"}}}],\"scattercarpet\":[{\"type\":\"scattercarpet\",\"marker\":{\"colorbar\":{\"outlinewidth\":0,\"ticks\":\"\"}}}],\"carpet\":[{\"aaxis\":{\"endlinecolor\":\"#2a3f5f\",\"gridcolor\":\"white\",\"linecolor\":\"white\",\"minorgridcolor\":\"white\",\"startlinecolor\":\"#2a3f5f\"},\"baxis\":{\"endlinecolor\":\"#2a3f5f\",\"gridcolor\":\"white\",\"linecolor\":\"white\",\"minorgridcolor\":\"white\",\"startlinecolor\":\"#2a3f5f\"},\"type\":\"carpet\"}],\"table\":[{\"cells\":{\"fill\":{\"color\":\"#EBF0F8\"},\"line\":{\"color\":\"white\"}},\"header\":{\"fill\":{\"color\":\"#C8D4E3\"},\"line\":{\"color\":\"white\"}},\"type\":\"table\"}],\"barpolar\":[{\"marker\":{\"line\":{\"color\":\"#E5ECF6\",\"width\":0.5},\"pattern\":{\"fillmode\":\"overlay\",\"size\":10,\"solidity\":0.2}},\"type\":\"barpolar\"}],\"pie\":[{\"automargin\":true,\"type\":\"pie\"}]},\"layout\":{\"autotypenumbers\":\"strict\",\"colorway\":[\"#636efa\",\"#EF553B\",\"#00cc96\",\"#ab63fa\",\"#FFA15A\",\"#19d3f3\",\"#FF6692\",\"#B6E880\",\"#FF97FF\",\"#FECB52\"],\"font\":{\"color\":\"#2a3f5f\"},\"hovermode\":\"closest\",\"hoverlabel\":{\"align\":\"left\"},\"paper_bgcolor\":\"white\",\"plot_bgcolor\":\"#E5ECF6\",\"polar\":{\"bgcolor\":\"#E5ECF6\",\"angularaxis\":{\"gridcolor\":\"white\",\"linecolor\":\"white\",\"ticks\":\"\"},\"radialaxis\":{\"gridcolor\":\"white\",\"linecolor\":\"white\",\"ticks\":\"\"}},\"ternary\":{\"bgcolor\":\"#E5ECF6\",\"aaxis\":{\"gridcolor\":\"white\",\"linecolor\":\"white\",\"ticks\":\"\"},\"baxis\":{\"gridcolor\":\"white\",\"linecolor\":\"white\",\"ticks\":\"\"},\"caxis\":{\"gridcolor\":\"white\",\"linecolor\":\"white\",\"ticks\":\"\"}},\"coloraxis\":{\"colorbar\":{\"outlinewidth\":0,\"ticks\":\"\"}},\"colorscale\":{\"sequential\":[[0.0,\"#0d0887\"],[0.1111111111111111,\"#46039f\"],[0.2222222222222222,\"#7201a8\"],[0.3333333333333333,\"#9c179e\"],[0.4444444444444444,\"#bd3786\"],[0.5555555555555556,\"#d8576b\"],[0.6666666666666666,\"#ed7953\"],[0.7777777777777778,\"#fb9f3a\"],[0.8888888888888888,\"#fdca26\"],[1.0,\"#f0f921\"]],\"sequentialminus\":[[0.0,\"#0d0887\"],[0.1111111111111111,\"#46039f\"],[0.2222222222222222,\"#7201a8\"],[0.3333333333333333,\"#9c179e\"],[0.4444444444444444,\"#bd3786\"],[0.5555555555555556,\"#d8576b\"],[0.6666666666666666,\"#ed7953\"],[0.7777777777777778,\"#fb9f3a\"],[0.8888888888888888,\"#fdca26\"],[1.0,\"#f0f921\"]],\"diverging\":[[0,\"#8e0152\"],[0.1,\"#c51b7d\"],[0.2,\"#de77ae\"],[0.3,\"#f1b6da\"],[0.4,\"#fde0ef\"],[0.5,\"#f7f7f7\"],[0.6,\"#e6f5d0\"],[0.7,\"#b8e186\"],[0.8,\"#7fbc41\"],[0.9,\"#4d9221\"],[1,\"#276419\"]]},\"xaxis\":{\"gridcolor\":\"white\",\"linecolor\":\"white\",\"ticks\":\"\",\"title\":{\"standoff\":15},\"zerolinecolor\":\"white\",\"automargin\":true,\"zerolinewidth\":2},\"yaxis\":{\"gridcolor\":\"white\",\"linecolor\":\"white\",\"ticks\":\"\",\"title\":{\"standoff\":15},\"zerolinecolor\":\"white\",\"automargin\":true,\"zerolinewidth\":2},\"scene\":{\"xaxis\":{\"backgroundcolor\":\"#E5ECF6\",\"gridcolor\":\"white\",\"linecolor\":\"white\",\"showbackground\":true,\"ticks\":\"\",\"zerolinecolor\":\"white\",\"gridwidth\":2},\"yaxis\":{\"backgroundcolor\":\"#E5ECF6\",\"gridcolor\":\"white\",\"linecolor\":\"white\",\"showbackground\":true,\"ticks\":\"\",\"zerolinecolor\":\"white\",\"gridwidth\":2},\"zaxis\":{\"backgroundcolor\":\"#E5ECF6\",\"gridcolor\":\"white\",\"linecolor\":\"white\",\"showbackground\":true,\"ticks\":\"\",\"zerolinecolor\":\"white\",\"gridwidth\":2}},\"shapedefaults\":{\"line\":{\"color\":\"#2a3f5f\"}},\"annotationdefaults\":{\"arrowcolor\":\"#2a3f5f\",\"arrowhead\":0,\"arrowwidth\":1},\"geo\":{\"bgcolor\":\"white\",\"landcolor\":\"#E5ECF6\",\"subunitcolor\":\"white\",\"showland\":true,\"showlakes\":true,\"lakecolor\":\"white\"},\"title\":{\"x\":0.05},\"mapbox\":{\"style\":\"light\"}}},\"xaxis\":{\"anchor\":\"y\",\"domain\":[0.0,1.0],\"title\":{\"text\":\"Epoch\"}},\"yaxis\":{\"anchor\":\"x\",\"domain\":[0.0,1.0],\"title\":{\"text\":\"value\"}},\"legend\":{\"title\":{\"text\":\"variable\"},\"tracegroupgap\":0},\"title\":{\"text\":\"Training and Validation Loss over Time\"}},                        {\"responsive\": true}                    ).then(function(){\n",
              "                            \n",
              "var gd = document.getElementById('b6d65165-5f8a-4d7e-b9dc-889408ba7778');\n",
              "var x = new MutationObserver(function (mutations, observer) {{\n",
              "        var display = window.getComputedStyle(gd).display;\n",
              "        if (!display || display === 'none') {{\n",
              "            console.log([gd, 'removed!']);\n",
              "            Plotly.purge(gd);\n",
              "            observer.disconnect();\n",
              "        }}\n",
              "}});\n",
              "\n",
              "// Listen for the removal of the full notebook cells\n",
              "var notebookContainer = gd.closest('#notebook-container');\n",
              "if (notebookContainer) {{\n",
              "    x.observe(notebookContainer, {childList: true});\n",
              "}}\n",
              "\n",
              "// Listen for the clearing of the current output cell\n",
              "var outputEl = gd.closest('.output');\n",
              "if (outputEl) {{\n",
              "    x.observe(outputEl, {childList: true});\n",
              "}}\n",
              "\n",
              "                        })                };                            </script>        </div>\n",
              "</body>\n",
              "</html>"
            ]
          },
          "metadata": {}
        }
      ],
      "source": [
        "fig = px.line(history.history,\n",
        "             y=['loss', 'val_loss'],\n",
        "             labels={'index':'Epoch'},\n",
        "             title='Training and Validation Loss over Time')\n",
        "\n",
        "fig.show()"
      ]
    },
    {
      "cell_type": "markdown",
      "metadata": {
        "id": "4e9f39a2"
      },
      "source": [
        "### Final Results"
      ]
    },
    {
      "cell_type": "code",
      "execution_count": null,
      "metadata": {
        "id": "aae0d59b",
        "colab": {
          "base_uri": "https://localhost:8080/",
          "height": 859
        },
        "outputId": "8fbb0828-f264-419c-ee47-9850c9820e34"
      },
      "outputs": [
        {
          "output_type": "stream",
          "name": "stdout",
          "text": [
            "Test Loss 0.04674\n",
            "Test Accuracy 98.89 %\n",
            "57/57 [==============================] - 2s 39ms/step\n",
            "57/57 [==============================] - 2s 27ms/step\n"
          ]
        },
        {
          "output_type": "display_data",
          "data": {
            "text/plain": [
              "<Figure size 600x600 with 1 Axes>"
            ],
            "image/png": "[encoded data removed]"
          },
          "metadata": {}
        },
        {
          "output_type": "stream",
          "name": "stdout",
          "text": [
            "r2 Score :  0.955539692556974\n",
            "\n",
            "Classification Report :\n",
            "......................\n",
            "               precision    recall  f1-score   support\n",
            "\n",
            "    NEGATIVE       0.99      0.99      0.99       917\n",
            "    POSITIVE       0.99      0.99      0.99       883\n",
            "\n",
            "    accuracy                           0.99      1800\n",
            "   macro avg       0.99      0.99      0.99      1800\n",
            "weighted avg       0.99      0.99      0.99      1800\n",
            "\n"
          ]
        }
      ],
      "source": [
        "results = model.evaluate(test_data, verbose=0)\n",
        "loss = results[0]\n",
        "accuracy = results[1]\n",
        "\n",
        "print(f'Test Loss {loss:.5f}')\n",
        "print(f'Test Accuracy {accuracy * 100:.2f} %')\n",
        "\n",
        "\n",
        "# predicted y values\n",
        "y_pred = np.squeeze((model.predict(test_data) >= 0.5).astype(int))\n",
        "y_certain = np.squeeze((model.predict(test_data)).astype(int))\n",
        "\n",
        "conf_matr = confusion_matrix(test_data.labels, y_pred)\n",
        "\n",
        "class_report = classification_report(test_data.labels, y_pred,\n",
        "                                         target_names=['NEGATIVE', 'POSITIVE'])\n",
        "\n",
        "plt.figure(figsize=(6,6))\n",
        "\n",
        "sns.heatmap(conf_matr, fmt='g', annot=True, cbar=False, vmin=0, cmap='Blues')\n",
        "\n",
        "plt.xticks(ticks=np.arange(2) + 0.5, labels=['NEGATIVE', 'POSITIVE'])\n",
        "plt.yticks(ticks=np.arange(2) + 0.5, labels=['NEGATIVE', 'POSITIVE'])\n",
        "plt.xlabel('Predicted')\n",
        "plt.ylabel('Actual')\n",
        "plt.title('Confusion Matrix')\n",
        "plt.show()\n",
        "\n",
        "print('r2 Score : ', r2_score(test_data.labels, y_pred))\n",
        "print()\n",
        "print('Classification Report :\\n......................\\n', class_report)"
      ]
    },
    {
      "cell_type": "markdown",
      "metadata": {
        "id": "5bc6c656"
      },
      "source": [
        "### Testing New DataSet"
      ]
    },
    {
      "cell_type": "code",
      "execution_count": null,
      "metadata": {
        "id": "d357f13f"
      },
      "outputs": [],
      "source": [
        "def test_new_data(dir_path):\n",
        "\n",
        "    new_test_dir = Path(dir_path)\n",
        "\n",
        "    df_new = generate_df(new_test_dir, 'Testing')\n",
        "\n",
        "    test_data_new = test_gen.flow_from_dataframe(df_new,\n",
        "                                          x_col='Filepath',\n",
        "                                          y_col='Label',\n",
        "                                          target_size=(120,120),\n",
        "                                          color_mode='rgb',\n",
        "                                          batch_size=5,\n",
        "                                          shuffle=False,\n",
        "                                          seed=42)\n",
        "\n",
        "    # predicted y values\n",
        "    y_pred = np.squeeze((model.predict(test_data_new) >= 0.5).astype(int))\n",
        "\n",
        "\n",
        "    y_certain = model.predict(test_data_new).round(6)\n",
        "    y_out = []\n",
        "    for i in y_pred:\n",
        "        if i==0:\n",
        "            y_out.append('Negative (Not Crack)')\n",
        "        else:\n",
        "            y_out.append('Positive(Crack) ')\n",
        "\n",
        "    result = pd.DataFrame(np.c_[y_out, y_certain], columns=['Result', 'Confidance of being Cracked'])\n",
        "\n",
        "    return result"
      ]
    },
    {
      "cell_type": "code",
      "source": [],
      "metadata": {
        "id": "z-umJ1xK2TsL"
      },
      "execution_count": null,
      "outputs": []
    },
    {
      "cell_type": "code",
      "execution_count": null,
      "metadata": {
        "id": "6f82b8cf"
      },
      "outputs": [],
      "source": [
        "#results = test_new_data(r'/content/drive/MyDrive/200_Check')"
      ]
    },
    {
      "cell_type": "code",
      "source": [],
      "metadata": {
        "id": "IvH6piiE2TBT"
      },
      "execution_count": null,
      "outputs": []
    },
    {
      "cell_type": "code",
      "source": [
        "import matplotlib.pyplot as plt\n",
        "import random\n",
        "import cv2\n",
        "import numpy as np"
      ],
      "metadata": {
        "id": "52a71BRUMbKS"
      },
      "execution_count": null,
      "outputs": []
    },
    {
      "cell_type": "code",
      "source": [
        "def func(path,model):\n",
        "  y_true=random.choice(os.listdir(path))\n",
        "  folder_path=os.path.join(path,y_true)\n",
        "  file_path=os.path.join(folder_path,random.choice(os.listdir(folder_path)))\n",
        "  img=cv2.imread(file_path)\n",
        "  img=cv2.cvtColor(img,cv2.COLOR_BGR2RGB)\n",
        "  img=cv2.resize(img,(120,120))\n",
        "  img_scalled=img.astype(\"float32\")\n",
        "  img_scalled=img_scalled/255.\n",
        "  img_scalled=np.expand_dims(img_scalled,axis=0)\n",
        "  predicted=model.predict(img_scalled,verbose=0)\n",
        "  print(predicted[0][0])\n",
        "  if predicted[0][0]<0.5:\n",
        "    y_pred=\"negative\"\n",
        "  else:\n",
        "    y_pred=\"positive\"\n",
        "  print(\"actual: \",y_true,\"predicted: \",y_pred)\n",
        "  plt.imshow(img)\n",
        "  plt.axis(\"off\")\n",
        "  plt.show\n",
        "func(\"/content/surface-crack-detection\",model)"
      ],
      "metadata": {
        "id": "M4GHcbZPMXtK",
        "colab": {
          "base_uri": "https://localhost:8080/",
          "height": 441
        },
        "outputId": "cc4cbfcf-4b1b-4f59-8098-0eba0115338d"
      },
      "execution_count": null,
      "outputs": [
        {
          "output_type": "stream",
          "name": "stdout",
          "text": [
            "[[0.45649725]] [0.45649725] 0.45649725\n",
            "y_true Negative y_predict negative\n"
          ]
        },
        {
          "output_type": "display_data",
          "data": {
            "text/plain": [
              "<Figure size 640x480 with 1 Axes>"
            ],
            "image/png": "[encoded data removed]"
          },
          "metadata": {}
        }
      ]
    },
    {
      "cell_type": "code",
      "execution_count": null,
      "metadata": {
        "id": "e237a52d",
        "colab": {
          "base_uri": "https://localhost:8080/",
          "height": 176
        },
        "outputId": "723fc4ef-9c4a-4fbc-bab4-8dfc23b97d3f"
      },
      "outputs": [
        {
          "output_type": "error",
          "ename": "AttributeError",
          "evalue": "'list' object has no attribute 'to_csv'",
          "traceback": [
            "\u001b[0;31m---------------------------------------------------------------------------\u001b[0m",
            "\u001b[0;31mAttributeError\u001b[0m                            Traceback (most recent call last)",
            "\u001b[0;32m<ipython-input-28-a4263697058f>\u001b[0m in \u001b[0;36m<cell line: 3>\u001b[0;34m()\u001b[0m\n\u001b[1;32m      1\u001b[0m \u001b[0;32mimport\u001b[0m \u001b[0mos\u001b[0m\u001b[0;34m\u001b[0m\u001b[0;34m\u001b[0m\u001b[0m\n\u001b[1;32m      2\u001b[0m \u001b[0;32mimport\u001b[0m \u001b[0mcsv\u001b[0m\u001b[0;34m\u001b[0m\u001b[0;34m\u001b[0m\u001b[0m\n\u001b[0;32m----> 3\u001b[0;31m \u001b[0mresults\u001b[0m\u001b[0;34m.\u001b[0m\u001b[0mto_csv\u001b[0m\u001b[0;34m(\u001b[0m\u001b[0;34mr'/content/drive/MyDrive/final_result.csv'\u001b[0m\u001b[0;34m)\u001b[0m\u001b[0;34m\u001b[0m\u001b[0;34m\u001b[0m\u001b[0m\n\u001b[0m",
            "\u001b[0;31mAttributeError\u001b[0m: 'list' object has no attribute 'to_csv'"
          ]
        }
      ],
      "source": []
    }
  ]
}